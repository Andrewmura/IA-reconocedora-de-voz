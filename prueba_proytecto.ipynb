{
 "cells": [
  {
   "cell_type": "code",
   "execution_count": 27,
   "metadata": {},
   "outputs": [],
   "source": [
    "import pandas as pd\n",
    "import numpy as np\n",
    "import matplotlib.pylab as plt\n",
    "import tensorflow \n",
    "import seaborn as sns \n",
    "import os \n",
    "\n",
    "from glob import glob\n",
    "from itertools import cycle\n",
    "\n",
    "import librosa as lr\n",
    "import librosa.display\n",
    "import IPython.display as ipd\n",
    "import speech_recognition as sr"
   ]
  },
  {
   "cell_type": "code",
   "execution_count": 28,
   "metadata": {},
   "outputs": [
    {
     "name": "stdout",
     "output_type": "stream",
     "text": [
      "Inicio grabación...\n",
      "Fin de grabación\n"
     ]
    }
   ],
   "source": [
    "import pyaudio\n",
    "import wave\n",
    "\n",
    "CHUNK = 1024\n",
    "FORMAT = pyaudio.paInt16\n",
    "CHANNELS = 1\n",
    "RATE = 44100\n",
    "\n",
    "p = pyaudio.PyAudio()\n",
    "stream = p.open(format=FORMAT,\n",
    "                channels=CHANNELS,\n",
    "                rate=RATE,\n",
    "                input=True,\n",
    "                frames_per_buffer=CHUNK)\n",
    "\n",
    "print(\"Inicio grabación...\")\n",
    "\n",
    "frames=[]\n",
    "seconds = 3\n",
    "for i in range(0, int(RATE/CHUNK * seconds)):\n",
    "    data = stream.read(CHUNK)\n",
    "    frames.append(data)\n",
    "    \n",
    "print(\"Fin de grabación\")\n",
    "\n",
    "stream.stop_stream()\n",
    "stream.close()\n",
    "p.terminate()\n",
    "\n",
    "wf = wave.open(\"entrada3.wav\", 'wb')\n",
    "wf.setnchannels(CHANNELS)\n",
    "wf.setsampwidth(p.get_sample_size(FORMAT))\n",
    "wf.setframerate(RATE)\n",
    "wf.writeframes(b''.join(frames))\n",
    "wf.close()"
   ]
  },
  {
   "cell_type": "code",
   "execution_count": 29,
   "metadata": {},
   "outputs": [
    {
     "data": {
      "text/plain": [
       "['./Audios_test.\\\\entrada3.wav', './Audios_test.\\\\entrada34.wav']"
      ]
     },
     "execution_count": 29,
     "metadata": {},
     "output_type": "execute_result"
    }
   ],
   "source": [
    "data_dir='./Audios_test'\n",
    "audio_files= glob(data_dir + './*wav')\n",
    "lista=[]\n",
    "audio_files\n",
    "  "
   ]
  },
  {
   "cell_type": "code",
   "execution_count": 30,
   "metadata": {},
   "outputs": [
    {
     "name": "stdout",
     "output_type": "stream",
     "text": [
      "entrada3.wav\n",
      "entrada34.wav\n"
     ]
    }
   ],
   "source": [
    "for file in os.listdir('Audios_test/'):\n",
    "    print(file)\n"
   ]
  },
  {
   "cell_type": "code",
   "execution_count": 31,
   "metadata": {},
   "outputs": [
    {
     "data": {
      "text/html": [
       "<div>\n",
       "<style scoped>\n",
       "    .dataframe tbody tr th:only-of-type {\n",
       "        vertical-align: middle;\n",
       "    }\n",
       "\n",
       "    .dataframe tbody tr th {\n",
       "        vertical-align: top;\n",
       "    }\n",
       "\n",
       "    .dataframe thead th {\n",
       "        text-align: right;\n",
       "    }\n",
       "</style>\n",
       "<table border=\"1\" class=\"dataframe\">\n",
       "  <thead>\n",
       "    <tr style=\"text-align: right;\">\n",
       "      <th></th>\n",
       "      <th>Y</th>\n",
       "      <th>Stft</th>\n",
       "      <th>Amplitud</th>\n",
       "      <th>Trimmed</th>\n",
       "      <th>mel_frequency</th>\n",
       "    </tr>\n",
       "  </thead>\n",
       "  <tbody>\n",
       "    <tr>\n",
       "      <th>0</th>\n",
       "      <td>0.000006</td>\n",
       "      <td>0.556299</td>\n",
       "      <td>-66.000984</td>\n",
       "      <td>0.000090</td>\n",
       "      <td>2.556379</td>\n",
       "    </tr>\n",
       "    <tr>\n",
       "      <th>1</th>\n",
       "      <td>-0.000002</td>\n",
       "      <td>0.265564</td>\n",
       "      <td>-69.426971</td>\n",
       "      <td>-0.000011</td>\n",
       "      <td>0.915485</td>\n",
       "    </tr>\n",
       "  </tbody>\n",
       "</table>\n",
       "</div>"
      ],
      "text/plain": [
       "          Y      Stft   Amplitud   Trimmed  mel_frequency\n",
       "0  0.000006  0.556299 -66.000984  0.000090       2.556379\n",
       "1 -0.000002  0.265564 -69.426971 -0.000011       0.915485"
      ]
     },
     "execution_count": 31,
     "metadata": {},
     "output_type": "execute_result"
    }
   ],
   "source": [
    "data_dir='./Audios_test'\n",
    "audio_files= glob(data_dir + './*wav')\n",
    "lista=[]\n",
    "  \n",
    "\n",
    "class AudioDataFixed: \n",
    "  def __init__(self):\n",
    "    self.y = []\n",
    "    self.d = []\n",
    "    self.S_db=[]\n",
    "    self.meanstft=[]\n",
    "    self.y_trimmed=[]\n",
    "    self.s=[]\n",
    "    self.promedio=[]\n",
    "    self.meany=[]\n",
    "    self.meand=[]\n",
    "    self.meanS_db=[]\n",
    "    self.meany_trimmed=[]\n",
    "    self.means=[]\n",
    "    \n",
    "    \n",
    "\n",
    "  def getAudioDataFrame(self):\n",
    "    return {'Y' : self.y, 'Stft': self.meanstft, \"Amplitud\":self.S_db, \"Trimmed\":self.y_trimmed, \"mel_frequency\":self.s}\n",
    "\n",
    "  def meandataframe(self):\n",
    "    return{'Y':self.meany,'Stft':self.promedio,\"Amplitud\":self.meanS_db, \"Trimmed\":self.meany_trimmed,\"mel_frequency\":self.means}\n",
    "   \n",
    "\n",
    "testAudios = AudioDataFixed()\n",
    "\n",
    "for i in audio_files:\n",
    "    #print('i:',i)\n",
    "    y, sr=lr.load(i,sr=11025,offset=0.0,duration=2.0)                      ## direcion, url, array\n",
    "    D = lr.stft(y) ## Short time fourier transform\n",
    "    S_db= lr.amplitude_to_db(np.abs(D), ref=np.max) ## Amplitud a decibles(usado en tranformadas de audio conmunmente)\n",
    "    s=librosa.feature.melspectrogram(y=y, sr=sr,n_mels=128)\n",
    "    y_trimmed, _ =librosa.effects.trim(y, top_db=15)\n",
    "    magnitud=abs(D)\n",
    "    testAudios.y.append(y)\n",
    "    testAudios.d.append(D)\n",
    "    testAudios.S_db.append(S_db)\n",
    "    testAudios.y_trimmed.append(y_trimmed)\n",
    "    testAudios.s.append(s)\n",
    "    testAudios.means.append(np.mean(s))\n",
    "    testAudios.meany.append(np.mean(y))\n",
    "    testAudios.meand.append(abs(D))\n",
    "    testAudios.meanS_db.append(np.mean(S_db))\n",
    "    testAudios.promedio.append\n",
    "    testAudios.meany_trimmed.append(np.mean(y_trimmed))\n",
    "    testAudios.meanstft.append(magnitud)\n",
    "    testAudios.promedio.append(np.mean(magnitud))\n",
    "    \n",
    "\n",
    "    \n",
    "\n",
    "\n",
    "dfa=pd.DataFrame(testAudios.getAudioDataFrame())\n",
    "def valor_salida():\n",
    "  lista=[]\n",
    "  for i in range(0,151):\n",
    "    if(i>=100):\n",
    "      salida=1\n",
    "      lista.append(salida)\n",
    "    elif(i<100):\n",
    "      salida=0\n",
    "      lista.append(salida)\n",
    "  return lista\n",
    "\n",
    "dfb=pd.DataFrame({\"Output\":valor_salida()})\n",
    "\n",
    "dfc=pd.DataFrame(testAudios.meandataframe())\n",
    "dfc\n"
   ]
  },
  {
   "cell_type": "code",
   "execution_count": 32,
   "metadata": {},
   "outputs": [],
   "source": [
    "b=1"
   ]
  },
  {
   "cell_type": "code",
   "execution_count": 33,
   "metadata": {},
   "outputs": [],
   "source": [
    "output= b\n",
    "dfc[\"Output\"]= output"
   ]
  },
  {
   "cell_type": "code",
   "execution_count": 34,
   "metadata": {},
   "outputs": [
    {
     "data": {
      "text/plain": [
       "array([[ 5.7873644e-06,  5.5629891e-01, -6.6000984e+01,  8.9724279e-05,\n",
       "         2.5563793e+00],\n",
       "       [-1.7908533e-06,  2.6556399e-01, -6.9426971e+01, -1.0861007e-05,\n",
       "         9.1548502e-01]], dtype=float32)"
      ]
     },
     "execution_count": 34,
     "metadata": {},
     "output_type": "execute_result"
    }
   ],
   "source": [
    "x=dfc.iloc[:,:5].values\n",
    "x"
   ]
  },
  {
   "cell_type": "code",
   "execution_count": 35,
   "metadata": {},
   "outputs": [
    {
     "data": {
      "text/plain": [
       "array([1, 1], dtype=int64)"
      ]
     },
     "execution_count": 35,
     "metadata": {},
     "output_type": "execute_result"
    }
   ],
   "source": [
    "y=dfc.iloc[:,5].values\n",
    "y"
   ]
  },
  {
   "cell_type": "code",
   "execution_count": 36,
   "metadata": {},
   "outputs": [],
   "source": [
    "from keras.utils import np_utils"
   ]
  },
  {
   "cell_type": "code",
   "execution_count": 37,
   "metadata": {},
   "outputs": [],
   "source": [
    "nclasses = 2\n",
    "\n",
    "Y_test = np_utils.to_categorical(y,nclasses)\n"
   ]
  },
  {
   "cell_type": "code",
   "execution_count": 38,
   "metadata": {},
   "outputs": [
    {
     "data": {
      "text/plain": [
       "(2, 2)"
      ]
     },
     "execution_count": 38,
     "metadata": {},
     "output_type": "execute_result"
    }
   ],
   "source": [
    "Y_test.shape"
   ]
  },
  {
   "cell_type": "code",
   "execution_count": 39,
   "metadata": {},
   "outputs": [],
   "source": [
    "from sklearn.preprocessing import StandardScaler\n",
    "from sklearn.model_selection import train_test_split "
   ]
  },
  {
   "cell_type": "code",
   "execution_count": 40,
   "metadata": {},
   "outputs": [],
   "source": [
    "from tensorflow.keras.models import model_from_json "
   ]
  },
  {
   "cell_type": "code",
   "execution_count": 41,
   "metadata": {},
   "outputs": [
    {
     "name": "stdout",
     "output_type": "stream",
     "text": [
      "Modelo cargado desde el PC\n",
      "accuracy: 0.00%\n"
     ]
    }
   ],
   "source": [
    "json_file = open('model.json', 'r')\n",
    "loaded_model_json = json_file.read()\n",
    " \n",
    "json_file.close()\n",
    "loaded_model = model_from_json(loaded_model_json)\n",
    "# se cargan los pesos (weights) en el nuevo modelo\n",
    "loaded_model.load_weights(\"model.h5\")\n",
    "print(\"Modelo cargado desde el PC\")\n",
    "# se evalua el modelo cargado con los datos de los test\n",
    "loaded_model.compile(optimizer = \"adam\", loss = \"categorical_crossentropy\", metrics = [\"accuracy\"])\n",
    "score = loaded_model.evaluate(x,Y_test, verbose=0)\n",
    "print(\"%s: %.2f%%\" % (loaded_model.metrics_names[1], score[1]*100))"
   ]
  },
  {
   "cell_type": "code",
   "execution_count": 42,
   "metadata": {},
   "outputs": [
    {
     "data": {
      "text/plain": [
       "array([[ 5.7873644e-06,  5.5629891e-01, -6.6000984e+01,  8.9724279e-05,\n",
       "         2.5563793e+00],\n",
       "       [-1.7908533e-06,  2.6556399e-01, -6.9426971e+01, -1.0861007e-05,\n",
       "         9.1548502e-01]], dtype=float32)"
      ]
     },
     "execution_count": 42,
     "metadata": {},
     "output_type": "execute_result"
    }
   ],
   "source": [
    "x"
   ]
  },
  {
   "cell_type": "code",
   "execution_count": 43,
   "metadata": {},
   "outputs": [
    {
     "name": "stdout",
     "output_type": "stream",
     "text": [
      "1/1 [==============================] - 0s 250ms/step\n"
     ]
    },
    {
     "data": {
      "text/plain": [
       "array([[0.6075903 , 0.39240974],\n",
       "       [0.656416  , 0.34358397]], dtype=float32)"
      ]
     },
     "execution_count": 43,
     "metadata": {},
     "output_type": "execute_result"
    }
   ],
   "source": [
    "entrada_x=loaded_model.predict(x)\n",
    "entrada_x"
   ]
  },
  {
   "cell_type": "code",
   "execution_count": 44,
   "metadata": {},
   "outputs": [
    {
     "data": {
      "text/plain": [
       "0.49999997"
      ]
     },
     "execution_count": 44,
     "metadata": {},
     "output_type": "execute_result"
    }
   ],
   "source": [
    "entrada_x.mean()\n"
   ]
  },
  {
   "cell_type": "code",
   "execution_count": 45,
   "metadata": {},
   "outputs": [
    {
     "data": {
      "text/plain": [
       "0.39240974"
      ]
     },
     "execution_count": 45,
     "metadata": {},
     "output_type": "execute_result"
    }
   ],
   "source": [
    "valor_final=entrada_x[0][1]\n",
    "valor_final"
   ]
  },
  {
   "cell_type": "code",
   "execution_count": 46,
   "metadata": {},
   "outputs": [],
   "source": [
    "salida_USB=0\n",
    "if (valor_final>=0.50):\n",
    "    salida_USB=1\n",
    "else:\n",
    "    salida_USB=0"
   ]
  },
  {
   "cell_type": "code",
   "execution_count": 47,
   "metadata": {},
   "outputs": [
    {
     "data": {
      "text/plain": [
       "0"
      ]
     },
     "execution_count": 47,
     "metadata": {},
     "output_type": "execute_result"
    }
   ],
   "source": [
    "salida_USB\n"
   ]
  },
  {
   "cell_type": "code",
   "execution_count": 48,
   "metadata": {},
   "outputs": [],
   "source": [
    "import serial,time"
   ]
  },
  {
   "cell_type": "code",
   "execution_count": null,
   "metadata": {},
   "outputs": [],
   "source": []
  },
  {
   "cell_type": "code",
   "execution_count": null,
   "metadata": {},
   "outputs": [],
   "source": []
  },
  {
   "cell_type": "code",
   "execution_count": null,
   "metadata": {},
   "outputs": [],
   "source": []
  },
  {
   "cell_type": "code",
   "execution_count": null,
   "metadata": {},
   "outputs": [],
   "source": []
  },
  {
   "cell_type": "code",
   "execution_count": null,
   "metadata": {},
   "outputs": [],
   "source": []
  },
  {
   "cell_type": "code",
   "execution_count": null,
   "metadata": {},
   "outputs": [],
   "source": []
  },
  {
   "cell_type": "code",
   "execution_count": null,
   "metadata": {},
   "outputs": [],
   "source": []
  },
  {
   "cell_type": "code",
   "execution_count": null,
   "metadata": {},
   "outputs": [],
   "source": []
  },
  {
   "cell_type": "code",
   "execution_count": null,
   "metadata": {},
   "outputs": [],
   "source": []
  },
  {
   "cell_type": "code",
   "execution_count": null,
   "metadata": {},
   "outputs": [],
   "source": []
  },
  {
   "cell_type": "code",
   "execution_count": null,
   "metadata": {},
   "outputs": [],
   "source": []
  },
  {
   "cell_type": "code",
   "execution_count": null,
   "metadata": {},
   "outputs": [],
   "source": []
  }
 ],
 "metadata": {
  "kernelspec": {
   "display_name": "Python 3.9.12 ('base')",
   "language": "python",
   "name": "python3"
  },
  "language_info": {
   "codemirror_mode": {
    "name": "ipython",
    "version": 3
   },
   "file_extension": ".py",
   "mimetype": "text/x-python",
   "name": "python",
   "nbconvert_exporter": "python",
   "pygments_lexer": "ipython3",
   "version": "3.9.12"
  },
  "orig_nbformat": 4,
  "vscode": {
   "interpreter": {
    "hash": "c4f92193806e2908606a5f23edd55a5282f2f433b73b1c504507f9256ed9f0b4"
   }
  }
 },
 "nbformat": 4,
 "nbformat_minor": 2
}
